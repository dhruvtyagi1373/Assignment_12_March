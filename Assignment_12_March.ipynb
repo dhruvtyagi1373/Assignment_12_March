{
 "cells": [
  {
   "cell_type": "markdown",
   "id": "10f7ee29-09ad-46dd-8417-06f532845ad3",
   "metadata": {},
   "source": [
    "## Q1. Calculate the 95% confidence interval for a sample of data with a mean of 50 and a standard deviation of 5 using Python. Interpret the results."
   ]
  },
  {
   "cell_type": "code",
   "execution_count": 13,
   "id": "d5d8a8f3-8f64-40ac-82b0-c693683695a1",
   "metadata": {},
   "outputs": [],
   "source": [
    "mean = 50\n",
    "standard_deviation = 5\n",
    "Z = 0.51994 # Calculated using Z-table\n",
    "lower_C_I = mean - Z*(standard_deviation)\n",
    "Upper_C_I = mean + Z*(standard_deviation)"
   ]
  },
  {
   "cell_type": "code",
   "execution_count": 14,
   "id": "80ac89f4-acdf-4146-b358-adcd0a9bad00",
   "metadata": {},
   "outputs": [
    {
     "name": "stdout",
     "output_type": "stream",
     "text": [
      "Lower C.I =  47.4003\n",
      "Upper C.I =  52.5997\n"
     ]
    }
   ],
   "source": [
    "print(\"Lower C.I = \",lower_C_I)\n",
    "print(\"Upper C.I = \",Upper_C_I)"
   ]
  },
  {
   "cell_type": "markdown",
   "id": "ee6e7113-bd79-4941-bd4f-ea41a66c33a6",
   "metadata": {
    "tags": []
   },
   "source": [
    "## Q2. Conduct a chi-square goodness of fit test to determine if the distribution of colors of M&Ms in a bag matches the expected distribution of 20% blue, 20% orange, 20% green, 10% yellow, 10% red, and 20% brown. Use Python to perform the test with a significance level of 0.05."
   ]
  },
  {
   "cell_type": "code",
   "execution_count": 3,
   "id": "ad1df620-cd8f-4878-bb4b-d72373fd80bb",
   "metadata": {},
   "outputs": [],
   "source": [
    "expected_distribution = [0.2,0.2,0.2,0.1,0.1,0.2]\n",
    "\n",
    "chi_square_statistic,p_value = stat.chisquare(expected_distribution)"
   ]
  },
  {
   "cell_type": "code",
   "execution_count": 4,
   "id": "61e6ca35-1e42-45d9-bd51-98186a543c03",
   "metadata": {},
   "outputs": [
    {
     "data": {
      "text/plain": [
       "0.08000000000000002"
      ]
     },
     "execution_count": 4,
     "metadata": {},
     "output_type": "execute_result"
    }
   ],
   "source": [
    "chi_square_statistic"
   ]
  },
  {
   "cell_type": "code",
   "execution_count": 5,
   "id": "9bdd6bce-3257-4b96-a155-546f87b85f81",
   "metadata": {},
   "outputs": [],
   "source": [
    "significance_value = 0.05\n",
    "dof = len(expected_distribution)-1\n",
    "critical_value = stat.t.ppf(significance_value,dof)"
   ]
  },
  {
   "cell_type": "code",
   "execution_count": 6,
   "id": "2c9661c4-7277-44d9-8929-1df2a7b40e5e",
   "metadata": {},
   "outputs": [
    {
     "data": {
      "text/plain": [
       "-2.0150483726691575"
      ]
     },
     "execution_count": 6,
     "metadata": {},
     "output_type": "execute_result"
    }
   ],
   "source": [
    "critical_value"
   ]
  },
  {
   "cell_type": "code",
   "execution_count": 7,
   "id": "10e8add0-54fb-4b17-93f1-cffacfdabba6",
   "metadata": {},
   "outputs": [
    {
     "name": "stdout",
     "output_type": "stream",
     "text": [
      "Reject the Null Hypothesis\n"
     ]
    }
   ],
   "source": [
    "if critical_value<chi_square_statistic:\n",
    "    print(\"Reject the Null Hypothesis\")\n",
    "else:\n",
    "    print(\"Accept the Null Hypothesis\")"
   ]
  },
  {
   "cell_type": "markdown",
   "id": "ceb502ac-7151-49f3-af7d-90251753be4a",
   "metadata": {},
   "source": [
    "## Q3. Use Python to calculate the chi-square statistic and p-value for a contingency table with the following data: Interpret the results of the test."
   ]
  },
  {
   "cell_type": "code",
   "execution_count": 13,
   "id": "bde2ee38-3024-4dd6-b382-546d0fd969b1",
   "metadata": {},
   "outputs": [
    {
     "name": "stdout",
     "output_type": "stream",
     "text": [
      "5.833333333333334 0.05411376622282158 2 [[15. 15. 15.]\n",
      " [20. 20. 20.]]\n"
     ]
    }
   ],
   "source": [
    "Expected_value1 = np.array([[20,10,15],[15,25,20]])\n",
    "\n",
    "chi_square_statistic_value,p_value_ans,dof_value,expected = stat.chi2_contingency(Expected_value1)\n",
    "\n",
    "print(chi_square_statistic_value,p_value_ans,dof_value,expected )"
   ]
  },
  {
   "cell_type": "markdown",
   "id": "17a094a9-9d27-4498-ab5d-aada203d5a52",
   "metadata": {
    "tags": []
   },
   "source": [
    "## Q4. A study of the prevalence of smoking in a population of 500 individuals found that 60 individuals smoked. Use Python to calculate the 95% confidence interval for the true proportion of individuals in the population who smoke."
   ]
  },
  {
   "cell_type": "code",
   "execution_count": null,
   "id": "eb828523-2933-420a-bcf8-a39c688c1e56",
   "metadata": {},
   "outputs": [],
   "source": []
  },
  {
   "cell_type": "markdown",
   "id": "539a551b-a304-4a2e-87ce-c9e74ee43ad6",
   "metadata": {},
   "source": [
    "## Q5. Calculate the 90% confidence interval for a sample of data with a mean of 75 and a standard deviation of 12 using Python. Interpret the results."
   ]
  },
  {
   "cell_type": "code",
   "execution_count": 10,
   "id": "fc946ef4-9ff7-4791-82c8-cfff918862c1",
   "metadata": {},
   "outputs": [],
   "source": [
    "mean = 75\n",
    "standard_deviation = 12\n",
    "Z = 0.53983 # Calculated using Z-table\n",
    "lower_C_I = mean - Z*(standard_deviation)\n",
    "Upper_C_I = mean + Z*(standard_deviation)"
   ]
  },
  {
   "cell_type": "code",
   "execution_count": 12,
   "id": "7d09d35f-ef47-48e1-a5b3-a44e31dbd2cc",
   "metadata": {},
   "outputs": [
    {
     "name": "stdout",
     "output_type": "stream",
     "text": [
      "Lower C.I =  68.52204\n",
      "Upper C.I =  81.47796\n"
     ]
    }
   ],
   "source": [
    "print(\"Lower C.I = \",lower_C_I)\n",
    "print(\"Upper C.I = \",Upper_C_I)"
   ]
  },
  {
   "cell_type": "markdown",
   "id": "603d69e7-fe5e-486c-af45-3b587dcce9f1",
   "metadata": {},
   "source": [
    "## Q6. Use Python to plot the chi-square distribution with 10 degrees of freedom. Label the axes and shade the area corresponding to a chi-square statistic of 15."
   ]
  },
  {
   "cell_type": "code",
   "execution_count": 1,
   "id": "f472925a-741c-498b-87d9-46e68189ef5a",
   "metadata": {},
   "outputs": [
    {
     "data": {
      "text/plain": [
       "Text(0, 0.5, 'Density')"
      ]
     },
     "execution_count": 1,
     "metadata": {},
     "output_type": "execute_result"
    },
    {
     "data": {
      "image/png": "[encoded data removed]",
      "text/plain": [
       "<Figure size 640x480 with 1 Axes>"
      ]
     },
     "metadata": {},
     "output_type": "display_data"
    }
   ],
   "source": [
    "import matplotlib.pyplot as plt\n",
    "from scipy.stats import chi2\n",
    "import numpy as np\n",
    "\n",
    "x = np.arange(0,100,15)\n",
    "plt.plot(x,chi2.pdf(x,df=10))\n",
    "plt.xlabel('x')\n",
    "plt.ylabel('Density')"
   ]
  },
  {
   "cell_type": "code",
   "execution_count": null,
   "id": "aa7fb439-49c3-4727-b3a3-0ffc0f692263",
   "metadata": {},
   "outputs": [],
   "source": []
  },
  {
   "cell_type": "markdown",
   "id": "a4955bf5-2911-44e0-9ad3-9c6690110ad6",
   "metadata": {},
   "source": [
    "## Q7. A random sample of 1000 people was asked if they preferred Coke or Pepsi. Of the sample, 520 preferred Coke. Calculate a 99% confidence interval for the true proportion of people in the population who prefer Coke."
   ]
  },
  {
   "cell_type": "code",
   "execution_count": null,
   "id": "378f5524-eddb-4d9f-abc7-17bde8b8216c",
   "metadata": {},
   "outputs": [],
   "source": []
  },
  {
   "cell_type": "markdown",
   "id": "861099ba-45e0-4ba2-9b4e-4d830e0af6e0",
   "metadata": {},
   "source": [
    "## Q8. A researcher hypothesizes that a coin is biased towards tails. They flip the coin 100 times and observe 45 tails. Conduct a chi-square goodness of fit test to determine if the observed frequencies match the expected frequencies of a fair coin. Use a significance level of 0.05."
   ]
  },
  {
   "cell_type": "code",
   "execution_count": 2,
   "id": "3fd5b023-7072-4856-bccd-e6fa19c33d85",
   "metadata": {},
   "outputs": [
    {
     "name": "stdout",
     "output_type": "stream",
     "text": [
      "Reject the Null Hypothesis\n"
     ]
    }
   ],
   "source": [
    "import scipy.stats as stat\n",
    "obs_values=[45,55]\n",
    "\n",
    "significance_VALUE=0.05\n",
    "dof=1\n",
    "critical_value = stat.t.ppf(significance_VALUE,dof)\n",
    "\n",
    "chi_square_value,P_value = stat.chisquare(obs_values)\n",
    "\n",
    "if chi_square_value>critical_value:\n",
    "    print(\"Reject the Null Hypothesis\")\n",
    "else:\n",
    "    print(\"Accept the Null Hypothesis\")\n"
   ]
  },
  {
   "cell_type": "markdown",
   "id": "47f2dfbc-4b39-4fba-b8cf-fc10428d655e",
   "metadata": {},
   "source": [
    "## Q9. A study was conducted to determine if there is an association between smoking status (smoker or non-smoker) and lung cancer diagnosis (yes or no). The results are shown in the contingency table below.Conduct a chi-square test for independence to determine if there is a significant association between smoking status and lung cancer diagnosis.Use a significance level of 0.05."
   ]
  },
  {
   "cell_type": "raw",
   "id": "7bb4c901-bad6-4cc1-91bc-c962da8d7f72",
   "metadata": {},
   "source": [
    "Null Hypothesis : There is no association between smoking status and lung cancer diagnosis\n",
    "Alternate Hypothesis  There is association between smoking status and lung cancer diagnosis"
   ]
  },
  {
   "cell_type": "code",
   "execution_count": 5,
   "id": "ea7c56f7-624e-4283-8465-ec8b3657c55c",
   "metadata": {},
   "outputs": [],
   "source": [
    "import scipy.stats as stat\n",
    "\n",
    "observed_value = [60,140.30,170]\n",
    "Expected_value = [45,155,45,155]\n"
   ]
  },
  {
   "cell_type": "code",
   "execution_count": 1,
   "id": "b1c4a0fd-af6c-4d36-9fda-b0ab76bf7b9b",
   "metadata": {},
   "outputs": [],
   "source": [
    "chi_square_statistic=8.46 # Calculated manually"
   ]
  },
  {
   "cell_type": "code",
   "execution_count": 6,
   "id": "1c789944-bcf1-4903-8379-23cebed298a6",
   "metadata": {},
   "outputs": [],
   "source": [
    "dof =1\n",
    "significance_value = 0.05\n",
    "critical_value = 3.84 # Calculated using the chi-square table"
   ]
  },
  {
   "cell_type": "code",
   "execution_count": 8,
   "id": "55493e30-1bed-45f7-a2c7-42389919bda4",
   "metadata": {},
   "outputs": [
    {
     "name": "stdout",
     "output_type": "stream",
     "text": [
      "Reject the Null Hypothesis\n"
     ]
    }
   ],
   "source": [
    "if critical_value<chi_square_statistic:\n",
    "    print(\"Reject the Null Hypothesis\")\n",
    "else:\n",
    "    print(\"Accept the Null Hypothesis\")"
   ]
  },
  {
   "cell_type": "markdown",
   "id": "2742dae9-301a-482f-9e0d-03f23b762b5f",
   "metadata": {},
   "source": [
    "## Q10. A study was conducted to determine if the proportion of people who prefer milk chocolate, dark chocolate, or white chocolate is different in the U.S. versus the U.K. A random sample of 500 people from the U.S. and a random sample of 500 people from the U.K. were surveyed. The results are shown in the contingency table below. Conduct a chi-square test for independence to determine if there is a significant association between chocolate preference and country of origin.Use a significance level of 0.01."
   ]
  },
  {
   "cell_type": "code",
   "execution_count": null,
   "id": "aae6fdf0-2723-4d00-bb46-b0aced175d85",
   "metadata": {},
   "outputs": [],
   "source": []
  },
  {
   "cell_type": "code",
   "execution_count": null,
   "id": "1e33df18-de8a-4539-a75d-2bec7912e530",
   "metadata": {},
   "outputs": [],
   "source": []
  },
  {
   "cell_type": "markdown",
   "id": "31807c5a-d0c5-4957-9217-ad11eca0607b",
   "metadata": {},
   "source": [
    "## Q11. A random sample of 30 people was selected from a population with an unknown mean and standard deviation. The sample mean was found to be 72 and the sample standard deviation was found to be 10.Conduct a hypothesis test to determine if the population mean is significantly different from 70. Use a significance level of 0.05."
   ]
  },
  {
   "cell_type": "code",
   "execution_count": null,
   "id": "58510802-70b9-444a-89c2-8b3ace30fb41",
   "metadata": {},
   "outputs": [],
   "source": []
  },
  {
   "cell_type": "code",
   "execution_count": null,
   "id": "3fc4540c-f8b7-439a-af1e-78b2ae2ee5c8",
   "metadata": {},
   "outputs": [],
   "source": []
  }
 ],
 "metadata": {
  "kernelspec": {
   "display_name": "Python 3 (ipykernel)",
   "language": "python",
   "name": "python3"
  },
  "language_info": {
   "codemirror_mode": {
    "name": "ipython",
    "version": 3
   },
   "file_extension": ".py",
   "mimetype": "text/x-python",
   "name": "python",
   "nbconvert_exporter": "python",
   "pygments_lexer": "ipython3",
   "version": "3.10.8"
  }
 },
 "nbformat": 4,
 "nbformat_minor": 5
}
